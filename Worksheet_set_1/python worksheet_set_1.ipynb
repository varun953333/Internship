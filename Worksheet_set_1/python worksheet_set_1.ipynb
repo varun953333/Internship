{
 "cells": [
  {
   "cell_type": "markdown",
   "id": "d0060a0c",
   "metadata": {},
   "source": [
    "# 1.Which of the following operators is used to calculate remainder in a division"
   ]
  },
  {
   "cell_type": "markdown",
   "id": "339da206",
   "metadata": {},
   "source": [
    "for Understanding"
   ]
  },
  {
   "cell_type": "code",
   "execution_count": 5,
   "id": "db4ff67c",
   "metadata": {},
   "outputs": [
    {
     "data": {
      "text/plain": [
       "10"
      ]
     },
     "execution_count": 5,
     "metadata": {},
     "output_type": "execute_result"
    }
   ],
   "source": [
    "10#2"
   ]
  },
  {
   "cell_type": "markdown",
   "id": "db85efb4",
   "metadata": {},
   "source": [
    "this is not correct answer"
   ]
  },
  {
   "cell_type": "code",
   "execution_count": 8,
   "id": "532f8ebc",
   "metadata": {},
   "outputs": [
    {
     "data": {
      "text/plain": [
       "2"
      ]
     },
     "execution_count": 8,
     "metadata": {},
     "output_type": "execute_result"
    }
   ],
   "source": [
    "10&2"
   ]
  },
  {
   "cell_type": "code",
   "execution_count": 3,
   "id": "de1b682c",
   "metadata": {},
   "outputs": [],
   "source": [
    "#this is also not correct answer"
   ]
  },
  {
   "cell_type": "code",
   "execution_count": 4,
   "id": "c0f630d7",
   "metadata": {},
   "outputs": [
    {
     "data": {
      "text/plain": [
       "0"
      ]
     },
     "execution_count": 4,
     "metadata": {},
     "output_type": "execute_result"
    }
   ],
   "source": [
    "10%2"
   ]
  },
  {
   "cell_type": "markdown",
   "id": "f563ae38",
   "metadata": {},
   "source": [
    "actually this is the remainder function and this is the correct answer "
   ]
  },
  {
   "cell_type": "raw",
   "id": "e5b397d5",
   "metadata": {},
   "source": [
    "10$2"
   ]
  },
  {
   "cell_type": "code",
   "execution_count": 7,
   "id": "33d89225",
   "metadata": {},
   "outputs": [],
   "source": [
    "#its showing syntax error and am using Raw NBConver Function so not a correct answer "
   ]
  },
  {
   "cell_type": "markdown",
   "id": "4be15da1",
   "metadata": {},
   "source": [
    "# 2. In python 2//3 is equal to\n"
   ]
  },
  {
   "cell_type": "code",
   "execution_count": 10,
   "id": "d97dec85",
   "metadata": {},
   "outputs": [
    {
     "data": {
      "text/plain": [
       "0"
      ]
     },
     "execution_count": 10,
     "metadata": {},
     "output_type": "execute_result"
    }
   ],
   "source": [
    "2//3"
   ]
  },
  {
   "cell_type": "markdown",
   "id": "02e8b8b9",
   "metadata": {},
   "source": [
    "# 3.In python, 6<<2 is equal to"
   ]
  },
  {
   "cell_type": "code",
   "execution_count": 11,
   "id": "298093fa",
   "metadata": {},
   "outputs": [
    {
     "data": {
      "text/plain": [
       "24"
      ]
     },
     "execution_count": 11,
     "metadata": {},
     "output_type": "execute_result"
    }
   ],
   "source": [
    "6<<2"
   ]
  },
  {
   "cell_type": "markdown",
   "id": "3cf33bd0",
   "metadata": {},
   "source": [
    "# 4.In python, 6&2 will give which of the following as output"
   ]
  },
  {
   "cell_type": "code",
   "execution_count": 12,
   "id": "10762885",
   "metadata": {},
   "outputs": [
    {
     "data": {
      "text/plain": [
       "2"
      ]
     },
     "execution_count": 12,
     "metadata": {},
     "output_type": "execute_result"
    }
   ],
   "source": [
    "6&2"
   ]
  },
  {
   "cell_type": "markdown",
   "id": "99749c26",
   "metadata": {},
   "source": [
    "# 5.In python, 6|2 will give which of the following as output"
   ]
  },
  {
   "cell_type": "code",
   "execution_count": 14,
   "id": "d2b416df",
   "metadata": {},
   "outputs": [
    {
     "data": {
      "text/plain": [
       "6"
      ]
     },
     "execution_count": 14,
     "metadata": {},
     "output_type": "execute_result"
    }
   ],
   "source": [
    "6|2"
   ]
  },
  {
   "cell_type": "markdown",
   "id": "bb59c3a8",
   "metadata": {},
   "source": [
    "# 11.Write a python program to find the factorial of a number"
   ]
  },
  {
   "cell_type": "markdown",
   "id": "bbdf07a4",
   "metadata": {},
   "source": [
    "num = 10"
   ]
  },
  {
   "cell_type": "markdown",
   "id": "521db641",
   "metadata": {},
   "source": [
    "fac = 10*9*8*7*6*5*4*3*2*1 = 3628800"
   ]
  },
  {
   "cell_type": "code",
   "execution_count": 5,
   "id": "f6e7dd1f",
   "metadata": {},
   "outputs": [
    {
     "name": "stdout",
     "output_type": "stream",
     "text": [
      "entet the number: 10\n",
      "the factorial of  9 is 10\n",
      "the factorial of  8 is 90\n",
      "the factorial of  7 is 720\n",
      "the factorial of  6 is 5040\n",
      "the factorial of  5 is 30240\n",
      "the factorial of  4 is 151200\n",
      "the factorial of  3 is 604800\n",
      "the factorial of  2 is 1814400\n",
      "the factorial of  1 is 3628800\n",
      "the factorial of  0 is 3628800\n"
     ]
    }
   ],
   "source": [
    "fact = 1\n",
    "num = int (input(\"entet the number: \"))\n",
    "while num > 0:\n",
    "    fact = fact * num\n",
    "    num = num - 1\n",
    "    print(\"the factorial of \", num,\"is\",fact)"
   ]
  },
  {
   "cell_type": "markdown",
   "id": "fc7194d0",
   "metadata": {},
   "source": [
    "# 12.Write a python program to find whether a number is prime or composite"
   ]
  },
  {
   "cell_type": "markdown",
   "id": "5081c1ab",
   "metadata": {},
   "source": [
    "3,5,7 are prime numbers"
   ]
  },
  {
   "cell_type": "markdown",
   "id": "9ac7d382",
   "metadata": {},
   "source": [
    "4,6,8,10 are not a prime numbers"
   ]
  },
  {
   "cell_type": "code",
   "execution_count": 15,
   "id": "5a58c236",
   "metadata": {},
   "outputs": [
    {
     "name": "stdout",
     "output_type": "stream",
     "text": [
      "Enter the number:99\n",
      "the number is not a prime\n"
     ]
    }
   ],
   "source": [
    "num = int (input(\"Enter the number:\"))\n",
    "flag = 0\n",
    "for i in range(2, num):\n",
    "    if(num % i == 0):\n",
    "        flag = 1\n",
    "        break\n",
    "        \n",
    "if(flag == 0):\n",
    "    print (\"the number is prime\")\n",
    "else:\n",
    "    print (\"the number is not a prime\")"
   ]
  },
  {
   "cell_type": "code",
   "execution_count": null,
   "id": "f210bbfd",
   "metadata": {},
   "outputs": [],
   "source": []
  },
  {
   "cell_type": "code",
   "execution_count": null,
   "id": "acb43bfe",
   "metadata": {},
   "outputs": [],
   "source": []
  }
 ],
 "metadata": {
  "kernelspec": {
   "display_name": "Python 3",
   "language": "python",
   "name": "python3"
  },
  "language_info": {
   "codemirror_mode": {
    "name": "ipython",
    "version": 3
   },
   "file_extension": ".py",
   "mimetype": "text/x-python",
   "name": "python",
   "nbconvert_exporter": "python",
   "pygments_lexer": "ipython3",
   "version": "3.8.8"
  }
 },
 "nbformat": 4,
 "nbformat_minor": 5
}
